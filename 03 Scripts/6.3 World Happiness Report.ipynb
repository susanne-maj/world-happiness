{
 "cells": [
  {
   "cell_type": "code",
   "execution_count": 3,
   "id": "4b31ee32-3839-43fa-bc4b-fd65b0a70238",
   "metadata": {},
   "outputs": [],
   "source": [
    "# import libraries\n",
    "import pandas as pd\n",
    "import numpy as np\n",
    "import seaborn as sns\n",
    "import matplotlib.pyplot as plt\n",
    "import os\n",
    "import folium\n",
    "import json\n",
    "import geopandas as gpd"
   ]
  },
  {
   "cell_type": "code",
   "execution_count": 4,
   "id": "ac362c8e-301c-4114-8293-e20d04b859fd",
   "metadata": {},
   "outputs": [],
   "source": [
    "# define path\n",
    "path = r'C:\\Users\\Administrator\\Documents\\data analytics\\Advanced Analytics and Dashbord Design\\World Happiness 2016-2024\\02 Data'"
   ]
  },
  {
   "cell_type": "code",
   "execution_count": 5,
   "id": "4f8db370-4f0d-472b-b5ca-a24b6e08ac58",
   "metadata": {},
   "outputs": [],
   "source": [
    "# Prompt matplotlib visuals to appear in the notebook \n",
    "\n",
    "%matplotlib inline"
   ]
  },
  {
   "cell_type": "code",
   "execution_count": 6,
   "id": "1e07dac8-7720-469f-a6ea-007dcb3c735c",
   "metadata": {},
   "outputs": [],
   "source": [
    "# import df world happiness report 2024. I call it whr to have a short name.\n",
    "whr = pd.read_pickle(os.path.join(path,'whr1.pkl'))"
   ]
  },
  {
   "cell_type": "code",
   "execution_count": 7,
   "id": "c0809f68-c515-4e14-92a0-5bd23249c576",
   "metadata": {},
   "outputs": [],
   "source": [
    "# import .json file to have the geospatial dimension\n",
    "geo = pd.read_json(os.path.join(path,'world-countries.json'))"
   ]
  },
  {
   "cell_type": "code",
   "execution_count": 8,
   "id": "526ca6ee-fc4c-4a00-9fb3-77d27ba65d59",
   "metadata": {},
   "outputs": [
    {
     "name": "stdout",
     "output_type": "stream",
     "text": [
      "Index(['type', 'features'], dtype='object')\n"
     ]
    }
   ],
   "source": [
    "# Look at .json columns. I looked in the file and it included countries.\n",
    "\n",
    "print(geo.columns)"
   ]
  },
  {
   "cell_type": "code",
   "execution_count": 9,
   "id": "b01eb91e-ee39-4715-a5d3-23012c63a08f",
   "metadata": {},
   "outputs": [
    {
     "data": {
      "text/html": [
       "<div>\n",
       "<style scoped>\n",
       "    .dataframe tbody tr th:only-of-type {\n",
       "        vertical-align: middle;\n",
       "    }\n",
       "\n",
       "    .dataframe tbody tr th {\n",
       "        vertical-align: top;\n",
       "    }\n",
       "\n",
       "    .dataframe thead th {\n",
       "        text-align: right;\n",
       "    }\n",
       "</style>\n",
       "<table border=\"1\" class=\"dataframe\">\n",
       "  <thead>\n",
       "    <tr style=\"text-align: right;\">\n",
       "      <th></th>\n",
       "      <th>Generosity</th>\n",
       "      <th>Year</th>\n",
       "      <th>Overall rank</th>\n",
       "      <th>Country or region</th>\n",
       "      <th>Freedom to make life choices</th>\n",
       "      <th>Life expectancy</th>\n",
       "      <th>Happiness (Score)</th>\n",
       "      <th>Trust (Gov.corruption)</th>\n",
       "      <th>Economy (GDP p. cap.)</th>\n",
       "      <th>Family support</th>\n",
       "    </tr>\n",
       "  </thead>\n",
       "  <tbody>\n",
       "    <tr>\n",
       "      <th>0</th>\n",
       "      <td>0.29678</td>\n",
       "      <td>2015</td>\n",
       "      <td>1.0</td>\n",
       "      <td>Switzerland</td>\n",
       "      <td>0.66557</td>\n",
       "      <td>0.94143</td>\n",
       "      <td>7.587</td>\n",
       "      <td>0.41978</td>\n",
       "      <td>1.39651</td>\n",
       "      <td>1.34951</td>\n",
       "    </tr>\n",
       "    <tr>\n",
       "      <th>1</th>\n",
       "      <td>0.43630</td>\n",
       "      <td>2015</td>\n",
       "      <td>2.0</td>\n",
       "      <td>Iceland</td>\n",
       "      <td>0.62877</td>\n",
       "      <td>0.94784</td>\n",
       "      <td>7.561</td>\n",
       "      <td>0.14145</td>\n",
       "      <td>1.30232</td>\n",
       "      <td>1.40223</td>\n",
       "    </tr>\n",
       "    <tr>\n",
       "      <th>2</th>\n",
       "      <td>0.34139</td>\n",
       "      <td>2015</td>\n",
       "      <td>3.0</td>\n",
       "      <td>Denmark</td>\n",
       "      <td>0.64938</td>\n",
       "      <td>0.87464</td>\n",
       "      <td>7.527</td>\n",
       "      <td>0.48357</td>\n",
       "      <td>1.32548</td>\n",
       "      <td>1.36058</td>\n",
       "    </tr>\n",
       "  </tbody>\n",
       "</table>\n",
       "</div>"
      ],
      "text/plain": [
       "   Generosity  Year  Overall rank Country or region  \\\n",
       "0     0.29678  2015           1.0       Switzerland   \n",
       "1     0.43630  2015           2.0           Iceland   \n",
       "2     0.34139  2015           3.0           Denmark   \n",
       "\n",
       "   Freedom to make life choices  Life expectancy  Happiness (Score)  \\\n",
       "0                       0.66557          0.94143              7.587   \n",
       "1                       0.62877          0.94784              7.561   \n",
       "2                       0.64938          0.87464              7.527   \n",
       "\n",
       "   Trust (Gov.corruption)  Economy (GDP p. cap.)  Family support  \n",
       "0                 0.41978                1.39651         1.34951  \n",
       "1                 0.14145                1.30232         1.40223  \n",
       "2                 0.48357                1.32548         1.36058  "
      ]
     },
     "execution_count": 9,
     "metadata": {},
     "output_type": "execute_result"
    }
   ],
   "source": [
    "whr.head(3)"
   ]
  },
  {
   "cell_type": "code",
   "execution_count": 10,
   "id": "2e84422b-38a4-4339-8eee-0e08ce6395f0",
   "metadata": {},
   "outputs": [
    {
     "data": {
      "text/plain": [
       "(782, 10)"
      ]
     },
     "execution_count": 10,
     "metadata": {},
     "output_type": "execute_result"
    }
   ],
   "source": [
    "whr.shape"
   ]
  },
  {
   "cell_type": "code",
   "execution_count": 11,
   "id": "72854433-2aa7-48d0-85c3-5f670741ab56",
   "metadata": {},
   "outputs": [],
   "source": [
    "# DATA WRANGLING (IF NEEDED)"
   ]
  },
  {
   "cell_type": "code",
   "execution_count": 12,
   "id": "f6875f1e-d137-4514-b49c-e5b343778254",
   "metadata": {},
   "outputs": [
    {
     "name": "stdout",
     "output_type": "stream",
     "text": [
      "['Switzerland', 'Iceland', 'Denmark', 'Norway', 'Canada', 'Finland', 'Netherlands', 'Sweden', 'New Zealand', 'Australia', 'Israel', 'Costa Rica', 'Austria', 'Mexico', 'United States', 'Brazil', 'Luxembourg', 'Ireland', 'Belgium', 'United Arab Emirates', 'United Kingdom', 'Oman', 'Venezuela', 'Singapore', 'Panama', 'Germany', 'Chile', 'Qatar', 'France', 'Argentina', 'Czech Republic', 'Uruguay', 'Colombia', 'Thailand', 'Saudi Arabia', 'Spain', 'Malta', 'Taiwan', 'Kuwait', 'Suriname', 'Trinidad and Tobago', 'El Salvador', 'Guatemala', 'Uzbekistan', 'Slovakia', 'Japan', 'South Korea', 'Ecuador', 'Bahrain', 'Italy', 'Bolivia', 'Moldova', 'Paraguay', 'Kazakhstan', 'Slovenia', 'Lithuania', 'Nicaragua', 'Peru', 'Belarus', 'Poland', 'Malaysia', 'Croatia', 'Libya', 'Russia', 'Jamaica', 'North Cyprus', 'Cyprus', 'Algeria', 'Kosovo', 'Turkmenistan', 'Mauritius', 'Hong Kong', 'Estonia', 'Indonesia', 'Vietnam', 'Turkey', 'Kyrgyzstan', 'Nigeria', 'Bhutan', 'Azerbaijan', 'Pakistan', 'Jordan', 'Montenegro', 'China', 'Zambia', 'Romania', 'Serbia', 'Portugal', 'Latvia', 'Philippines', 'Somaliland region', 'Morocco', 'Macedonia', 'Mozambique', 'Albania', 'Bosnia and Herzegovina', 'Lesotho', 'Dominican Republic', 'Laos', 'Mongolia', 'Swaziland', 'Greece', 'Lebanon', 'Hungary', 'Honduras', 'Tajikistan', 'Tunisia', 'Palestinian Territories', 'Bangladesh', 'Iran', 'Ukraine', 'Iraq', 'South Africa', 'Ghana', 'Zimbabwe', 'Liberia', 'India', 'Sudan', 'Haiti', 'Congo (Kinshasa)', 'Nepal', 'Ethiopia', 'Sierra Leone', 'Mauritania', 'Kenya', 'Djibouti', 'Armenia', 'Botswana', 'Myanmar', 'Georgia', 'Malawi', 'Sri Lanka', 'Cameroon', 'Bulgaria', 'Egypt', 'Yemen', 'Angola', 'Mali', 'Congo (Brazzaville)', 'Comoros', 'Uganda', 'Senegal', 'Gabon', 'Niger', 'Cambodia', 'Tanzania', 'Madagascar', 'Central African Republic', 'Chad', 'Guinea', 'Ivory Coast', 'Burkina Faso', 'Afghanistan', 'Rwanda', 'Benin', 'Syria', 'Burundi', 'Togo', 'Denmark', 'Switzerland', 'Iceland', 'Norway', 'Finland', 'Canada', 'Netherlands', 'New Zealand', 'Australia', 'Sweden', 'Israel', 'Austria', 'United States', 'Costa Rica', 'Puerto Rico', 'Germany', 'Brazil', 'Belgium', 'Ireland', 'Luxembourg', 'Mexico', 'Singapore', 'United Kingdom', 'Chile', 'Panama', 'Argentina', 'Czech Republic', 'United Arab Emirates', 'Uruguay', 'Malta', 'Colombia', 'France', 'Thailand', 'Saudi Arabia', 'Taiwan', 'Qatar', 'Spain', 'Algeria', 'Guatemala', 'Suriname', 'Kuwait', 'Bahrain', 'Trinidad and Tobago', 'Venezuela', 'Slovakia', 'El Salvador', 'Malaysia', 'Nicaragua', 'Uzbekistan', 'Italy', 'Ecuador', 'Belize', 'Japan', 'Kazakhstan', 'Moldova', 'Russia', 'Poland', 'South Korea', 'Bolivia', 'Lithuania', 'Belarus', 'North Cyprus', 'Slovenia', 'Peru', 'Turkmenistan', 'Mauritius', 'Libya', 'Latvia', 'Cyprus', 'Paraguay', 'Romania', 'Estonia', 'Jamaica', 'Croatia', 'Hong Kong', 'Somalia', 'Kosovo', 'Turkey', 'Indonesia', 'Jordan', 'Azerbaijan', 'Philippines', 'China', 'Bhutan', 'Kyrgyzstan', 'Serbia', 'Bosnia and Herzegovina', 'Montenegro', 'Dominican Republic', 'Morocco', 'Hungary', 'Pakistan', 'Lebanon', 'Portugal', 'Macedonia', 'Vietnam', 'Somaliland Region', 'Tunisia', 'Greece', 'Tajikistan', 'Mongolia', 'Laos', 'Nigeria', 'Honduras', 'Iran', 'Zambia', 'Nepal', 'Palestinian Territories', 'Albania', 'Bangladesh', 'Sierra Leone', 'Iraq', 'Namibia', 'Cameroon', 'Ethiopia', 'South Africa', 'Sri Lanka', 'India', 'Myanmar', 'Egypt', 'Armenia', 'Kenya', 'Ukraine', 'Ghana', 'Congo (Kinshasa)', 'Georgia', 'Congo (Brazzaville)', 'Senegal', 'Bulgaria', 'Mauritania', 'Zimbabwe', 'Malawi', 'Sudan', 'Gabon', 'Mali', 'Haiti', 'Botswana', 'Comoros', 'Ivory Coast', 'Cambodia', 'Angola', 'Niger', 'South Sudan', 'Chad', 'Burkina Faso', 'Uganda', 'Yemen', 'Madagascar', 'Tanzania', 'Liberia', 'Guinea', 'Rwanda', 'Benin', 'Afghanistan', 'Togo', 'Syria', 'Burundi', 'Norway', 'Denmark', 'Iceland', 'Switzerland', 'Finland', 'Netherlands', 'Canada', 'New Zealand', 'Sweden', 'Australia', 'Israel', 'Costa Rica', 'Austria', 'United States', 'Ireland', 'Germany', 'Belgium', 'Luxembourg', 'United Kingdom', 'Chile', 'United Arab Emirates', 'Brazil', 'Czech Republic', 'Argentina', 'Mexico', 'Singapore', 'Malta', 'Uruguay', 'Guatemala', 'Panama', 'France', 'Thailand', 'Taiwan Province of China', 'Spain', 'Qatar', 'Colombia', 'Saudi Arabia', 'Trinidad and Tobago', 'Kuwait', 'Slovakia', 'Bahrain', 'Malaysia', 'Nicaragua', 'Ecuador', 'El Salvador', 'Poland', 'Uzbekistan', 'Italy', 'Russia', 'Belize', 'Japan', 'Lithuania', 'Algeria', 'Latvia', 'South Korea', 'Moldova', 'Romania', 'Bolivia', 'Turkmenistan', 'Kazakhstan', 'North Cyprus', 'Slovenia', 'Peru', 'Mauritius', 'Cyprus', 'Estonia', 'Belarus', 'Libya', 'Turkey', 'Paraguay', 'Hong Kong S.A.R., China', 'Philippines', 'Serbia', 'Jordan', 'Hungary', 'Jamaica', 'Croatia', 'Kosovo', 'China', 'Pakistan', 'Indonesia', 'Venezuela', 'Montenegro', 'Morocco', 'Azerbaijan', 'Dominican Republic', 'Greece', 'Lebanon', 'Portugal', 'Bosnia and Herzegovina', 'Honduras', 'Macedonia', 'Somalia', 'Vietnam', 'Nigeria', 'Tajikistan', 'Bhutan', 'Kyrgyzstan', 'Nepal', 'Mongolia', 'South Africa', 'Tunisia', 'Palestinian Territories', 'Egypt', 'Bulgaria', 'Sierra Leone', 'Cameroon', 'Iran', 'Albania', 'Bangladesh', 'Namibia', 'Kenya', 'Mozambique', 'Myanmar', 'Senegal', 'Zambia', 'Iraq', 'Gabon', 'Ethiopia', 'Sri Lanka', 'Armenia', 'India', 'Mauritania', 'Congo (Brazzaville)', 'Georgia', 'Congo (Kinshasa)', 'Mali', 'Ivory Coast', 'Cambodia', 'Sudan', 'Ghana', 'Ukraine', 'Uganda', 'Burkina Faso', 'Niger', 'Malawi', 'Chad', 'Zimbabwe', 'Lesotho', 'Angola', 'Afghanistan', 'Botswana', 'Benin', 'Madagascar', 'Haiti', 'Yemen', 'South Sudan', 'Liberia', 'Guinea', 'Togo', 'Rwanda', 'Syria', 'Tanzania', 'Burundi', 'Central African Republic', nan, nan, nan, nan, nan, nan, nan, nan, nan, nan, nan, nan, nan, nan, nan, nan, nan, nan, nan, nan, nan, nan, nan, nan, nan, nan, nan, nan, nan, nan, nan, nan, nan, nan, nan, nan, nan, nan, nan, nan, nan, nan, nan, nan, nan, nan, nan, nan, nan, nan, nan, nan, nan, nan, nan, nan, nan, nan, nan, nan, nan, nan, nan, nan, nan, nan, nan, nan, nan, nan, nan, nan, nan, nan, nan, nan, nan, nan, nan, nan, nan, nan, nan, nan, nan, nan, nan, nan, nan, nan, nan, nan, nan, nan, nan, nan, nan, nan, nan, nan, nan, nan, nan, nan, nan, nan, nan, nan, nan, nan, nan, nan, nan, nan, nan, nan, nan, nan, nan, nan, nan, nan, nan, nan, nan, nan, nan, nan, nan, nan, nan, nan, nan, nan, nan, nan, nan, nan, nan, nan, nan, nan, nan, nan, nan, nan, nan, nan, nan, nan, nan, nan, nan, nan, nan, nan, nan, nan, nan, nan, nan, nan, nan, nan, nan, nan, nan, nan, nan, nan, nan, nan, nan, nan, nan, nan, nan, nan, nan, nan, nan, nan, nan, nan, nan, nan, nan, nan, nan, nan, nan, nan, nan, nan, nan, nan, nan, nan, nan, nan, nan, nan, nan, nan, nan, nan, nan, nan, nan, nan, nan, nan, nan, nan, nan, nan, nan, nan, nan, nan, nan, nan, nan, nan, nan, nan, nan, nan, nan, nan, nan, nan, nan, nan, nan, nan, nan, nan, nan, nan, nan, nan, nan, nan, nan, nan, nan, nan, nan, nan, nan, nan, nan, nan, nan, nan, nan, nan, nan, nan, nan, nan, nan, nan, nan, nan, nan, nan, nan, nan, nan, nan, nan, nan, nan, nan, nan, nan, nan, nan, nan, nan, nan, nan, nan, nan, nan, nan, nan, nan, nan, nan, nan, nan, nan, nan, nan, nan, nan, nan, nan, nan, nan, nan, nan, nan, nan, nan, nan, nan, nan, nan]\n"
     ]
    }
   ],
   "source": [
    "# List values in the country or region column\n",
    "values_list = whr['Country or region'].tolist()\n",
    "print(values_list)"
   ]
  },
  {
   "cell_type": "code",
   "execution_count": 13,
   "id": "70e1e71e-4a0c-48ff-8f20-821b96e0a0c1",
   "metadata": {},
   "outputs": [],
   "source": [
    "# Data cleaning: Get rid of the missing values nan in the Country and region column since this will not show anything in the chloropleth map.\n",
    "\n",
    "whr_clean = whr.dropna(subset=['Country or region'])"
   ]
  },
  {
   "cell_type": "code",
   "execution_count": 14,
   "id": "1f4a36be-3b0e-4472-9339-781a8c8aee3d",
   "metadata": {},
   "outputs": [
    {
     "name": "stdout",
     "output_type": "stream",
     "text": [
      "['Switzerland', 'Iceland', 'Denmark', 'Norway', 'Canada', 'Finland', 'Netherlands', 'Sweden', 'New Zealand', 'Australia', 'Israel', 'Costa Rica', 'Austria', 'Mexico', 'United States', 'Brazil', 'Luxembourg', 'Ireland', 'Belgium', 'United Arab Emirates', 'United Kingdom', 'Oman', 'Venezuela', 'Singapore', 'Panama', 'Germany', 'Chile', 'Qatar', 'France', 'Argentina', 'Czech Republic', 'Uruguay', 'Colombia', 'Thailand', 'Saudi Arabia', 'Spain', 'Malta', 'Taiwan', 'Kuwait', 'Suriname', 'Trinidad and Tobago', 'El Salvador', 'Guatemala', 'Uzbekistan', 'Slovakia', 'Japan', 'South Korea', 'Ecuador', 'Bahrain', 'Italy', 'Bolivia', 'Moldova', 'Paraguay', 'Kazakhstan', 'Slovenia', 'Lithuania', 'Nicaragua', 'Peru', 'Belarus', 'Poland', 'Malaysia', 'Croatia', 'Libya', 'Russia', 'Jamaica', 'North Cyprus', 'Cyprus', 'Algeria', 'Kosovo', 'Turkmenistan', 'Mauritius', 'Hong Kong', 'Estonia', 'Indonesia', 'Vietnam', 'Turkey', 'Kyrgyzstan', 'Nigeria', 'Bhutan', 'Azerbaijan', 'Pakistan', 'Jordan', 'Montenegro', 'China', 'Zambia', 'Romania', 'Serbia', 'Portugal', 'Latvia', 'Philippines', 'Somaliland region', 'Morocco', 'Macedonia', 'Mozambique', 'Albania', 'Bosnia and Herzegovina', 'Lesotho', 'Dominican Republic', 'Laos', 'Mongolia', 'Swaziland', 'Greece', 'Lebanon', 'Hungary', 'Honduras', 'Tajikistan', 'Tunisia', 'Palestinian Territories', 'Bangladesh', 'Iran', 'Ukraine', 'Iraq', 'South Africa', 'Ghana', 'Zimbabwe', 'Liberia', 'India', 'Sudan', 'Haiti', 'Congo (Kinshasa)', 'Nepal', 'Ethiopia', 'Sierra Leone', 'Mauritania', 'Kenya', 'Djibouti', 'Armenia', 'Botswana', 'Myanmar', 'Georgia', 'Malawi', 'Sri Lanka', 'Cameroon', 'Bulgaria', 'Egypt', 'Yemen', 'Angola', 'Mali', 'Congo (Brazzaville)', 'Comoros', 'Uganda', 'Senegal', 'Gabon', 'Niger', 'Cambodia', 'Tanzania', 'Madagascar', 'Central African Republic', 'Chad', 'Guinea', 'Ivory Coast', 'Burkina Faso', 'Afghanistan', 'Rwanda', 'Benin', 'Syria', 'Burundi', 'Togo', 'Denmark', 'Switzerland', 'Iceland', 'Norway', 'Finland', 'Canada', 'Netherlands', 'New Zealand', 'Australia', 'Sweden', 'Israel', 'Austria', 'United States', 'Costa Rica', 'Puerto Rico', 'Germany', 'Brazil', 'Belgium', 'Ireland', 'Luxembourg', 'Mexico', 'Singapore', 'United Kingdom', 'Chile', 'Panama', 'Argentina', 'Czech Republic', 'United Arab Emirates', 'Uruguay', 'Malta', 'Colombia', 'France', 'Thailand', 'Saudi Arabia', 'Taiwan', 'Qatar', 'Spain', 'Algeria', 'Guatemala', 'Suriname', 'Kuwait', 'Bahrain', 'Trinidad and Tobago', 'Venezuela', 'Slovakia', 'El Salvador', 'Malaysia', 'Nicaragua', 'Uzbekistan', 'Italy', 'Ecuador', 'Belize', 'Japan', 'Kazakhstan', 'Moldova', 'Russia', 'Poland', 'South Korea', 'Bolivia', 'Lithuania', 'Belarus', 'North Cyprus', 'Slovenia', 'Peru', 'Turkmenistan', 'Mauritius', 'Libya', 'Latvia', 'Cyprus', 'Paraguay', 'Romania', 'Estonia', 'Jamaica', 'Croatia', 'Hong Kong', 'Somalia', 'Kosovo', 'Turkey', 'Indonesia', 'Jordan', 'Azerbaijan', 'Philippines', 'China', 'Bhutan', 'Kyrgyzstan', 'Serbia', 'Bosnia and Herzegovina', 'Montenegro', 'Dominican Republic', 'Morocco', 'Hungary', 'Pakistan', 'Lebanon', 'Portugal', 'Macedonia', 'Vietnam', 'Somaliland Region', 'Tunisia', 'Greece', 'Tajikistan', 'Mongolia', 'Laos', 'Nigeria', 'Honduras', 'Iran', 'Zambia', 'Nepal', 'Palestinian Territories', 'Albania', 'Bangladesh', 'Sierra Leone', 'Iraq', 'Namibia', 'Cameroon', 'Ethiopia', 'South Africa', 'Sri Lanka', 'India', 'Myanmar', 'Egypt', 'Armenia', 'Kenya', 'Ukraine', 'Ghana', 'Congo (Kinshasa)', 'Georgia', 'Congo (Brazzaville)', 'Senegal', 'Bulgaria', 'Mauritania', 'Zimbabwe', 'Malawi', 'Sudan', 'Gabon', 'Mali', 'Haiti', 'Botswana', 'Comoros', 'Ivory Coast', 'Cambodia', 'Angola', 'Niger', 'South Sudan', 'Chad', 'Burkina Faso', 'Uganda', 'Yemen', 'Madagascar', 'Tanzania', 'Liberia', 'Guinea', 'Rwanda', 'Benin', 'Afghanistan', 'Togo', 'Syria', 'Burundi', 'Norway', 'Denmark', 'Iceland', 'Switzerland', 'Finland', 'Netherlands', 'Canada', 'New Zealand', 'Sweden', 'Australia', 'Israel', 'Costa Rica', 'Austria', 'United States', 'Ireland', 'Germany', 'Belgium', 'Luxembourg', 'United Kingdom', 'Chile', 'United Arab Emirates', 'Brazil', 'Czech Republic', 'Argentina', 'Mexico', 'Singapore', 'Malta', 'Uruguay', 'Guatemala', 'Panama', 'France', 'Thailand', 'Taiwan Province of China', 'Spain', 'Qatar', 'Colombia', 'Saudi Arabia', 'Trinidad and Tobago', 'Kuwait', 'Slovakia', 'Bahrain', 'Malaysia', 'Nicaragua', 'Ecuador', 'El Salvador', 'Poland', 'Uzbekistan', 'Italy', 'Russia', 'Belize', 'Japan', 'Lithuania', 'Algeria', 'Latvia', 'South Korea', 'Moldova', 'Romania', 'Bolivia', 'Turkmenistan', 'Kazakhstan', 'North Cyprus', 'Slovenia', 'Peru', 'Mauritius', 'Cyprus', 'Estonia', 'Belarus', 'Libya', 'Turkey', 'Paraguay', 'Hong Kong S.A.R., China', 'Philippines', 'Serbia', 'Jordan', 'Hungary', 'Jamaica', 'Croatia', 'Kosovo', 'China', 'Pakistan', 'Indonesia', 'Venezuela', 'Montenegro', 'Morocco', 'Azerbaijan', 'Dominican Republic', 'Greece', 'Lebanon', 'Portugal', 'Bosnia and Herzegovina', 'Honduras', 'Macedonia', 'Somalia', 'Vietnam', 'Nigeria', 'Tajikistan', 'Bhutan', 'Kyrgyzstan', 'Nepal', 'Mongolia', 'South Africa', 'Tunisia', 'Palestinian Territories', 'Egypt', 'Bulgaria', 'Sierra Leone', 'Cameroon', 'Iran', 'Albania', 'Bangladesh', 'Namibia', 'Kenya', 'Mozambique', 'Myanmar', 'Senegal', 'Zambia', 'Iraq', 'Gabon', 'Ethiopia', 'Sri Lanka', 'Armenia', 'India', 'Mauritania', 'Congo (Brazzaville)', 'Georgia', 'Congo (Kinshasa)', 'Mali', 'Ivory Coast', 'Cambodia', 'Sudan', 'Ghana', 'Ukraine', 'Uganda', 'Burkina Faso', 'Niger', 'Malawi', 'Chad', 'Zimbabwe', 'Lesotho', 'Angola', 'Afghanistan', 'Botswana', 'Benin', 'Madagascar', 'Haiti', 'Yemen', 'South Sudan', 'Liberia', 'Guinea', 'Togo', 'Rwanda', 'Syria', 'Tanzania', 'Burundi', 'Central African Republic']\n"
     ]
    }
   ],
   "source": [
    "values_list = whr_clean['Country or region'].tolist()\n",
    "print(values_list)"
   ]
  },
  {
   "cell_type": "code",
   "execution_count": 15,
   "id": "69651c89-9143-4d3d-8638-17a82100ba74",
   "metadata": {},
   "outputs": [
    {
     "name": "stdout",
     "output_type": "stream",
     "text": [
      "Generosity                      0\n",
      "Year                            0\n",
      "Overall rank                    0\n",
      "Country or region               0\n",
      "Freedom to make life choices    0\n",
      "Life expectancy                 0\n",
      "Happiness (Score)               0\n",
      "Trust (Gov.corruption)          0\n",
      "Economy (GDP p. cap.)           0\n",
      "Family support                  0\n",
      "dtype: int64\n"
     ]
    }
   ],
   "source": [
    "# nan values per column\n",
    "nan_count = whr_clean.isna().sum()\n",
    "print(nan_count)"
   ]
  },
  {
   "cell_type": "code",
   "execution_count": 16,
   "id": "226d68a8-21be-4cd6-921b-33efaeff3bcc",
   "metadata": {},
   "outputs": [
    {
     "name": "stdout",
     "output_type": "stream",
     "text": [
      "       Generosity         Year  Overall rank  Freedom to make life choices  \\\n",
      "count  470.000000   470.000000    470.000000                    470.000000   \n",
      "mean     0.242241  2015.993617     78.829787                      0.402828   \n",
      "std      0.131543     0.816907     45.281408                      0.150356   \n",
      "min      0.000000  2015.000000      1.000000                      0.000000   \n",
      "25%      0.152831  2015.000000     40.000000                      0.297615   \n",
      "50%      0.223140  2016.000000     79.000000                      0.418347   \n",
      "75%      0.315824  2017.000000    118.000000                      0.516850   \n",
      "max      0.838075  2017.000000    158.000000                      0.669730   \n",
      "\n",
      "       Life expectancy  Happiness (Score)  Trust (Gov.corruption)  \\\n",
      "count       470.000000         470.000000              470.000000   \n",
      "mean          0.579968           5.370728                0.134790   \n",
      "std           0.240161           1.136998                0.111313   \n",
      "min           0.000000           2.693000                0.000000   \n",
      "25%           0.402301           4.509000                0.059777   \n",
      "50%           0.630053           5.282500                0.099502   \n",
      "75%           0.768298           6.233750                0.173161   \n",
      "max           1.025250           7.587000                0.551910   \n",
      "\n",
      "       Economy (GDP p. cap.)  Family support  \n",
      "count             470.000000      470.000000  \n",
      "mean                0.927830        0.990347  \n",
      "std                 0.415584        0.318707  \n",
      "min                 0.000000        0.000000  \n",
      "25%                 0.605292        0.793000  \n",
      "50%                 0.995439        1.025665  \n",
      "75%                 1.252443        1.228745  \n",
      "max                 1.870766        1.610574  \n",
      "Generosity - Number of outliers: 10\n",
      "Year - Number of outliers: 0\n",
      "Overall rank - Number of outliers: 0\n",
      "Freedom to make life choices - Number of outliers: 0\n",
      "Life expectancy - Number of outliers: 0\n",
      "Happiness (Score) - Number of outliers: 0\n",
      "Trust (Gov.corruption) - Number of outliers: 35\n",
      "Economy (GDP p. cap.) - Number of outliers: 0\n",
      "Family support - Number of outliers: 5\n"
     ]
    }
   ],
   "source": [
    "# Check for extreme values\n",
    "# Summary statistics\n",
    "print(whr_clean.describe())\n",
    "\n",
    "# Identify potential outliers using IQR (Interquartile Range)\n",
    "numeric_cols = whr_clean.select_dtypes(include='number').columns\n",
    "\n",
    "for col in numeric_cols:\n",
    "    Q1 = whr_clean[col].quantile(0.25)\n",
    "    Q3 = whr_clean[col].quantile(0.75)\n",
    "    IQR = Q3 - Q1\n",
    "    outliers = whr_clean[(whr_clean[col] < Q1 - 1.5 * IQR) | (whr_clean[col] > Q3 + 1.5 * IQR)]\n",
    "    print(f\"{col} - Number of outliers: {len(outliers)}\")"
   ]
  },
  {
   "cell_type": "code",
   "execution_count": 17,
   "id": "bddd2ba1-f37a-4069-884c-cdb28be6bef3",
   "metadata": {},
   "outputs": [
    {
     "data": {
      "image/png": "[encoded data removed]",
      "text/plain": [
       "<Figure size 800x600 with 1 Axes>"
      ]
     },
     "metadata": {},
     "output_type": "display_data"
    }
   ],
   "source": [
    "# Choose the columns for x and y axes\n",
    "x_col = 'Happiness (Score)'    # Independent variable\n",
    "y_col = 'Generosity'           # Dependent variable\n",
    "\n",
    "# Plot scatterplot\n",
    "plt.figure(figsize=(8, 6))\n",
    "sns.scatterplot(x=whr_clean[x_col], y=whr_clean[y_col])\n",
    "plt.title(f'Scatterplot of {y_col} vs {x_col}')\n",
    "plt.xlabel(x_col)\n",
    "plt.ylabel(y_col)\n",
    "plt.show()\n"
   ]
  },
  {
   "cell_type": "code",
   "execution_count": 18,
   "id": "616f34b3-a4ca-48ea-842b-7f1390c4d409",
   "metadata": {},
   "outputs": [
    {
     "name": "stdout",
     "output_type": "stream",
     "text": [
      "Original rows: 470, Filtered rows: 420\n"
     ]
    }
   ],
   "source": [
    "# Keep columns only in the normal data range\n",
    "numeric_cols = whr_clean.select_dtypes(include='number').columns\n",
    "\n",
    "whr_filtered = whr_clean.copy()\n",
    "for col in numeric_cols:\n",
    "    Q1 = whr_filtered[col].quantile(0.25)\n",
    "    Q3 = whr_filtered[col].quantile(0.75)\n",
    "    IQR = Q3 - Q1\n",
    "    lower_bound = Q1 - 1.5 * IQR\n",
    "    upper_bound = Q3 + 1.5 * IQR\n",
    "    whr_filtered = whr_filtered[(whr_filtered[col] >= lower_bound) & (whr_filtered[col] <= upper_bound)]\n",
    "\n",
    "print(f\"Original rows: {len(whr_clean)}, Filtered rows: {len(whr_filtered)}\")"
   ]
  },
  {
   "cell_type": "code",
   "execution_count": 19,
   "id": "4ef731d0-b5fa-417b-9f1b-d485d43c6dd0",
   "metadata": {},
   "outputs": [
    {
     "data": {
      "text/plain": [
       "(420, 10)"
      ]
     },
     "execution_count": 19,
     "metadata": {},
     "output_type": "execute_result"
    }
   ],
   "source": [
    "whr_filtered.shape"
   ]
  },
  {
   "cell_type": "code",
   "execution_count": 20,
   "id": "a28f5d93-5f3b-4f63-b5f3-d53b6fe10f63",
   "metadata": {},
   "outputs": [
    {
     "name": "stdout",
     "output_type": "stream",
     "text": [
      "Requirement already satisfied: geopandas in c:\\users\\administrator\\anaconda3\\lib\\site-packages (1.1.1)\n",
      "Requirement already satisfied: numpy>=1.24 in c:\\users\\administrator\\anaconda3\\lib\\site-packages (from geopandas) (1.26.4)\n",
      "Requirement already satisfied: pyogrio>=0.7.2 in c:\\users\\administrator\\anaconda3\\lib\\site-packages (from geopandas) (0.11.1)\n",
      "Requirement already satisfied: packaging in c:\\users\\administrator\\anaconda3\\lib\\site-packages (from geopandas) (24.1)\n",
      "Requirement already satisfied: pandas>=2.0.0 in c:\\users\\administrator\\anaconda3\\lib\\site-packages (from geopandas) (2.2.2)\n",
      "Requirement already satisfied: pyproj>=3.5.0 in c:\\users\\administrator\\anaconda3\\lib\\site-packages (from geopandas) (3.7.2)\n",
      "Requirement already satisfied: shapely>=2.0.0 in c:\\users\\administrator\\anaconda3\\lib\\site-packages (from geopandas) (2.1.1)\n",
      "Requirement already satisfied: python-dateutil>=2.8.2 in c:\\users\\administrator\\anaconda3\\lib\\site-packages (from pandas>=2.0.0->geopandas) (2.9.0.post0)\n",
      "Requirement already satisfied: pytz>=2020.1 in c:\\users\\administrator\\anaconda3\\lib\\site-packages (from pandas>=2.0.0->geopandas) (2024.1)\n",
      "Requirement already satisfied: tzdata>=2022.7 in c:\\users\\administrator\\anaconda3\\lib\\site-packages (from pandas>=2.0.0->geopandas) (2023.3)\n",
      "Requirement already satisfied: certifi in c:\\users\\administrator\\anaconda3\\lib\\site-packages (from pyogrio>=0.7.2->geopandas) (2024.8.30)\n",
      "Requirement already satisfied: six>=1.5 in c:\\users\\administrator\\anaconda3\\lib\\site-packages (from python-dateutil>=2.8.2->pandas>=2.0.0->geopandas) (1.16.0)\n"
     ]
    }
   ],
   "source": [
    "!pip install geopandas"
   ]
  },
  {
   "cell_type": "code",
   "execution_count": 22,
   "id": "482bcdc2-681d-4f5c-96ec-7cf3d07750b9",
   "metadata": {},
   "outputs": [
    {
     "name": "stdout",
     "output_type": "stream",
     "text": [
      "C:\\Users\\Administrator\\Documents\\data analytics\\Advanced Analytics and Dashbord Design\\World Happiness 2016-2024\\03 Scripts\n"
     ]
    }
   ],
   "source": [
    "import os\n",
    "print(os.getcwd())"
   ]
  },
  {
   "cell_type": "code",
   "execution_count": 23,
   "id": "fa79ac51-7bf0-42ae-aab1-8cad89a9dd0c",
   "metadata": {},
   "outputs": [],
   "source": [
    "# define path since it is looking in the wrong folder for the geo file\n",
    "path = r'C:\\Users\\Administrator\\Documents\\data analytics\\Advanced Analytics and Dashbord Design\\World Happiness 2016-2024\\02 Data'"
   ]
  },
  {
   "cell_type": "code",
   "execution_count": 65,
   "id": "e50c15f7-e796-4db0-a0f6-a28b82a9e4c6",
   "metadata": {},
   "outputs": [],
   "source": [
    "# Read the .json file.\n",
    "gdf = gpd.read_file(r'C:\\Users\\Administrator\\Documents\\data analytics\\Advanced Analytics and Dashbord Design\\World Happiness 2016-2024\\02 Data\\world-countries.json')\n",
    "# Drop missing entries in it.\n",
    "gdf = gdf.dropna(subset=[\"geometry\"])"
   ]
  },
  {
   "cell_type": "code",
   "execution_count": 66,
   "id": "5d319d44-fd93-4893-aaaf-ded9e56b007c",
   "metadata": {},
   "outputs": [
    {
     "name": "stdout",
     "output_type": "stream",
     "text": [
      "Index(['id', 'name', 'geometry'], dtype='object')\n",
      "    id         name                                           geometry\n",
      "0  AFG  Afghanistan  POLYGON ((61.21082 35.65007, 62.23065 35.27066...\n"
     ]
    }
   ],
   "source": [
    "# Show first row’s properties\n",
    "print(gdf.columns)\n",
    "print(gdf.head(1))"
   ]
  },
  {
   "cell_type": "code",
   "execution_count": 67,
   "id": "89046e5b-7382-4ff4-9c0e-85ad50c30d9b",
   "metadata": {},
   "outputs": [],
   "source": [
    "key_on=\"feature.properties.name\""
   ]
  },
  {
   "cell_type": "code",
   "execution_count": 68,
   "id": "bd25a5f3-36c8-45c5-9e54-0e2ad2905378",
   "metadata": {},
   "outputs": [
    {
     "name": "stdout",
     "output_type": "stream",
     "text": [
      "Index(['id', 'name', 'geometry'], dtype='object')\n"
     ]
    }
   ],
   "source": [
    "print(gdf.columns)"
   ]
  },
  {
   "cell_type": "code",
   "execution_count": 69,
   "id": "c7429e49-fdd2-41ca-8545-9bbbdbcf1954",
   "metadata": {},
   "outputs": [
    {
     "name": "stdout",
     "output_type": "stream",
     "text": [
      "Map created and saved as choropleth_map.html\n"
     ]
    }
   ],
   "source": [
    "# Create cloropleth map\n",
    "import folium\n",
    "\n",
    "# Create base map\n",
    "m = folium.Map(location=[20, 0], zoom_start=2)\n",
    "\n",
    "# Add choropleth\n",
    "choropleth = folium.Choropleth(\n",
    "    geo_data=gdf,\n",
    "    data=whr_filtered,\n",
    "    columns=[\"Country or region\", \"Happiness (Score)\"],\n",
    "    key_on=\"feature.properties.name\",\n",
    "    fill_color=\"Greens\",\n",
    "    fill_opacity=0.7,\n",
    "    line_opacity=1,           # show Choropleth borders\n",
    "    line_color=\"black\",       # black borders\n",
    "    legend_name=\"Happiness Score 2015-2019\"\n",
    ").add_to(m)\n",
    "\n",
    "# Save map\n",
    "m.save(\"choropleth_map.html\")\n",
    "print(\"Map created and saved as choropleth_map.html\")"
   ]
  },
  {
   "cell_type": "code",
   "execution_count": 74,
   "id": "b76a52e6-da9b-4bc9-8be7-6e5d39439cf6",
   "metadata": {},
   "outputs": [
    {
     "name": "stdout",
     "output_type": "stream",
     "text": [
      "Countries missing in GeoJSON: ['Malta', 'Bahrain', 'Mauritius', 'Palestine', 'Comoros', 'Bahrain', 'Mauritius', 'Hong Kong S.A.R., China', 'Palestine', 'Comoros', 'Bahrain', 'Mauritius', 'Hong Kong S.A.R., China', 'Palestine']\n"
     ]
    }
   ],
   "source": [
    "# Get all country names from the GeoJSON\n",
    "geo_names = gdf['name'].tolist()\n",
    "\n",
    "# Get all country names from your dataset\n",
    "data_names = whr_filtered['Country or region'].tolist()\n",
    "\n",
    "# Find countries in your data that don't match the GeoJSON\n",
    "missing = [c for c in data_names if c not in geo_names]\n",
    "\n",
    "print(\"Countries missing in GeoJSON:\", missing)"
   ]
  },
  {
   "cell_type": "code",
   "execution_count": 77,
   "id": "5983c8ff-fe3f-4400-8018-12a94c105e1e",
   "metadata": {},
   "outputs": [
    {
     "name": "stdout",
     "output_type": "stream",
     "text": [
      "Map created and saved as choropleth_map.html\n"
     ]
    }
   ],
   "source": [
    "# --- Step 1: Define mapping to match GeoJSON country names ---\n",
    "name_mapping = {\n",
    "    \"United States\": \"United States of America\",\n",
    "    \"Malta\": \"Malta\",\n",
    "    \"Bahrain\": \"Bahrain\",\n",
    "    \"North Cyprus\": \"Northern Cyprus\",  # adjust if GeoJSON name differs\n",
    "    \"Mauritius\": \"Mauritius\",\n",
    "    \"Serbia\": \"Republic of Serbia\",\n",
    "    \"Palestinian Territories\": \"Palestine\",\n",
    "    \"Congo (Kinshasa)\": \"Democratic Republic of the Congo\",\n",
    "    \"Congo (Brazzaville)\": \"Republic of the Congo\",\n",
    "    \"Comoros\": \"Comoros\",\n",
    "    \"Tanzania\": \"United Republic of Tanzania\",\n",
    "    \"Hong Kong\": \"Hong Kong S.A.R., China\",\n",
    "    \"Taiwan Province of China\": \"Taiwan\"\n",
    "}\n",
    "\n",
    "# --- Step 2: Apply mapping to your dataset ---\n",
    "whr_filtered['Country or region'] = whr_filtered['Country or region'].replace(name_mapping)\n",
    "\n",
    "# --- Step 3: Create base map ---\n",
    "m = folium.Map(location=[20, 0], zoom_start=2)\n",
    "\n",
    "# --- Step 4: Add Choropleth ---\n",
    "choropleth = folium.Choropleth(\n",
    "    geo_data=gdf,\n",
    "    data=whr_filtered,\n",
    "    columns=[\"Country or region\", \"Happiness (Score)\"],\n",
    "    key_on=\"feature.properties.name\",\n",
    "    fill_color=\"Greens\",\n",
    "    fill_opacity=0.7,\n",
    "    line_opacity=1,\n",
    "    line_color=\"black\",\n",
    "    legend_name=\"Happiness Score 2015-2019\"\n",
    ").add_to(m)\n",
    "\n",
    "# --- Optional: Add hover tooltips ---\n",
    "folium.GeoJson(\n",
    "    gdf,\n",
    "    name=\"Countries\",\n",
    "    style_function=lambda feature: {\n",
    "        \"fillColor\": \"transparent\",\n",
    "        \"color\": \"black\",\n",
    "        \"weight\": 0.5\n",
    "    },\n",
    "    tooltip=folium.GeoJsonTooltip(\n",
    "        fields=[\"name\"],\n",
    "        aliases=[\"Country:\"],\n",
    "        localize=True\n",
    "    )\n",
    ").add_to(m)\n",
    "\n",
    "# --- Step 5: Save map as HTML ---\n",
    "m.save(\"choropleth_map.html\")\n",
    "print(\"Map created and saved as choropleth_map.html\")"
   ]
  },
  {
   "cell_type": "code",
   "execution_count": 80,
   "id": "e5fb995e-1689-4176-90cb-3b3d8c2a28d6",
   "metadata": {},
   "outputs": [],
   "source": [
    "# Discussion:\n",
    "# Previously defined hypothesis:\n",
    "# Higher scores in GDP per capita, life expectancy, freedom to make life choices, Happiness, Trust, and Family support all lead to a lower overall ranking (=better result). \n",
    "# Additions to hypothesis after creating the cloropleth map:\n",
    "# Some “unexpected” countries receive a very good result in the World Happiness report when measuring the Happiness Score. What factors influence more than others on the overall ranking? (Follow up questions: Is there a limit to the happiness also in Western countries? Do we believe that we are happier only dependent on economic wellbeing?)\n",
    "# Is there a possibility that bias occur? How is the data collected and how are the respondents selected? If a statal organization is involved maybe they select based on incorrect criteria, especially if they have a high level of corruption.\n",
    "# Thailand and Myanmar rank pretty high. This is also a surprise. Are there any common factors between these two countries? Are there differences between Asian, African, North American and Western European countries? Beliefs? Religion?\n"
   ]
  },
  {
   "cell_type": "code",
   "execution_count": null,
   "id": "98788e19-1fd5-49f6-be99-e42574d6739c",
   "metadata": {},
   "outputs": [],
   "source": []
  }
 ],
 "metadata": {
  "kernelspec": {
   "display_name": "Python 3 (ipykernel)",
   "language": "python",
   "name": "python3"
  },
  "language_info": {
   "codemirror_mode": {
    "name": "ipython",
    "version": 3
   },
   "file_extension": ".py",
   "mimetype": "text/x-python",
   "name": "python",
   "nbconvert_exporter": "python",
   "pygments_lexer": "ipython3",
   "version": "3.12.3"
  }
 },
 "nbformat": 4,
 "nbformat_minor": 5
}
