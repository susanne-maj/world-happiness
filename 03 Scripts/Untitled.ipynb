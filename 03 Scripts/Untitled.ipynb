{
 "cells": [
  {
   "cell_type": "code",
   "execution_count": null,
   "id": "2f4519c8-ecec-4a5e-8550-75854e41eea6",
   "metadata": {},
   "outputs": [],
   "source": [
    "whr.groupby('cluster').agg({'Freedom':['mean', 'median'], \n",
    "                         'Life expectancy':['mean', 'median'], \n",
    "                         'Happiness Score':['mean', 'median'],\n",
    "                          'Trust':['mean', 'median'], # Group into the color cluster and calculate mean and median for each of the variables.\n",
    "                          'GDP per capita':['mean', 'median'],\n",
    "                            'Generosity':['mean', 'median'], \n",
    "                              'Overall rank':['mean', 'median'], \n",
    "                               'Family support':['mean', 'median']})"
   ]
  }
 ],
 "metadata": {
  "kernelspec": {
   "display_name": "Python 3 (ipykernel)",
   "language": "python",
   "name": "python3"
  },
  "language_info": {
   "codemirror_mode": {
    "name": "ipython",
    "version": 3
   },
   "file_extension": ".py",
   "mimetype": "text/x-python",
   "name": "python",
   "nbconvert_exporter": "python",
   "pygments_lexer": "ipython3",
   "version": "3.12.3"
  }
 },
 "nbformat": 4,
 "nbformat_minor": 5
}
